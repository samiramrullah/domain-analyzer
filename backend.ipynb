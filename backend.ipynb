{
 "cells": [
  {
   "cell_type": "code",
   "execution_count": null,
   "id": "2c7faa0c",
   "metadata": {},
   "outputs": [
    {
     "name": "stdout",
     "output_type": "stream",
     "text": [
      " * Serving Flask app '__main__'\n"
     ]
    },
    {
     "name": "stdout",
     "output_type": "stream",
     "text": [
      " * Debug mode: on\n"
     ]
    },
    {
     "name": "stderr",
     "output_type": "stream",
     "text": [
      "WARNING: This is a development server. Do not use it in a production deployment. Use a production WSGI server instead.\n",
      " * Running on http://127.0.0.1:5000\n",
      "Press CTRL+C to quit\n"
     ]
    }
   ],
   "source": [
    "from flask import Flask, request, jsonify\n",
    "import re\n",
    "import requests\n",
    "from urllib.parse import urlparse\n",
    "import threading\n",
    "\n",
    "app = Flask(__name__)\n",
    "\n",
    "# --- Pre-check filters ---\n",
    "UNWANTED_TLDS = [\".cn\", \".ru\"]\n",
    "\n",
    "# --- Keywords for classification ---\n",
    "FOR_SALE_KEYWORDS = [\n",
    "    \"buy this domain\", \"domain for sale\", \"this domain is for sale\",\n",
    "    \"acquire this domain\", \"make an offer\", \"bid now\"\n",
    "]\n",
    "ACTIVE_SITE_KEYWORDS = [\n",
    "    \"cart\", \"checkout\", \"shop now\", \"products\", \"services\",\n",
    "    \"marketplace\", \"about us\", \"contact\", \"login\"\n",
    "]\n",
    "\n",
    "# --- Domain validation ---\n",
    "def is_valid_domain(domain: str):\n",
    "    parsed = urlparse(domain if \"://\" in domain else \"http://\" + domain)\n",
    "    domain_name = parsed.netloc or parsed.path\n",
    "    if not domain_name:\n",
    "        return False, None\n",
    "    for tld in UNWANTED_TLDS:\n",
    "        if domain_name.endswith(tld):\n",
    "            return False, None\n",
    "    if re.match(r\"^\\d{1,3}(\\.\\d{1,3}){3}$\", domain_name):\n",
    "        return False, None\n",
    "    regex = re.compile(\n",
    "        r\"^(?=.{1,253}$)(?!-)([A-Za-z0-9](?:[A-Za-z0-9-]{0,61}[A-Za-z0-9])?\\.)+[A-Za-z]{2,63}$\"\n",
    "    )\n",
    "    if not regex.match(domain_name):\n",
    "        return False, None\n",
    "    return True, domain_name\n",
    "\n",
    "# --- RDAP check ---\n",
    "def check_domain_rdap(domain: str):\n",
    "    try:\n",
    "        url = f\"https://rdap.org/domain/{domain}\"\n",
    "        resp = requests.get(url, timeout=10)\n",
    "        if resp.status_code == 404:\n",
    "            return \"Available\", \"Domain available for registration\"\n",
    "        elif resp.status_code == 200:\n",
    "            return \"Registered\", \"Domain already registered\"\n",
    "        else:\n",
    "            return \"Unknown\", f\"RDAP returned {resp.status_code}\"\n",
    "    except Exception as e:\n",
    "        return \"Unknown\", f\"RDAP error: {e}\"\n",
    "\n",
    "# --- Content classifier ---\n",
    "def classify_content(domain: str):\n",
    "    try:\n",
    "        resp = requests.get(\n",
    "            \"http://\" + domain,\n",
    "            timeout=10,\n",
    "            headers={\"User-Agent\": \"Mozilla/5.0\"}\n",
    "        )\n",
    "        content = resp.text.lower()\n",
    "    except Exception as e:\n",
    "        return \"Manual Review\", f\"Could not fetch page: {e}\"\n",
    "    if any(kw in content for kw in FOR_SALE_KEYWORDS):\n",
    "        return \"Pass\", \"Domain sale language detected\"\n",
    "    if any(kw in content for kw in ACTIVE_SITE_KEYWORDS):\n",
    "        return \"Fail\", \"Active website content detected\"\n",
    "    return \"Manual Review\", \"Unclear signals, requires human review\"\n",
    "\n",
    "# --- Main pipeline ---\n",
    "def analyze_domain(input_domain: str):\n",
    "    valid, domain = is_valid_domain(input_domain)\n",
    "    if not valid:\n",
    "        return {\"url\": input_domain, \"status\": \"Fail\", \"reason\": \"Invalid or unwanted domain\"}\n",
    "    rdap_status, rdap_reason = check_domain_rdap(domain)\n",
    "    if rdap_status == \"Available\":\n",
    "        return {\"url\": domain, \"status\": \"Pass\", \"reason\": rdap_reason}\n",
    "    elif rdap_status == \"Registered\":\n",
    "        cls_status, cls_reason = classify_content(domain)\n",
    "        return {\"url\": domain, \"status\": cls_status, \"reason\": cls_reason}\n",
    "    else:\n",
    "        return {\"url\": domain, \"status\": \"Manual Review\", \"reason\": rdap_reason}\n",
    "\n",
    "# --- Flask routes ---\n",
    "@app.route('/')\n",
    "def home():\n",
    "    return \"Domain Checker API is running!\"\n",
    "\n",
    "@app.route(\"/check\", methods=[\"GET\"])\n",
    "def check_domain_route():\n",
    "    domain = request.args.get(\"domain\")\n",
    "    if not domain:\n",
    "        return jsonify({\"error\": \"Please provide a domain parameter\"}), 400\n",
    "    result = analyze_domain(domain)\n",
    "    return jsonify(result)\n",
    "\n",
    "# --- Run Flask server in a thread for Jupyter ---\n",
    "def run_app():\n",
    "    app.run(debug=True, use_reloader=False)\n",
    "\n",
    "thread = threading.Thread(target=run_app)\n",
    "thread.start()\n"
   ]
  },
  {
   "cell_type": "code",
   "execution_count": null,
   "id": "84e8fa05",
   "metadata": {},
   "outputs": [],
   "source": []
  }
 ],
 "metadata": {
  "kernelspec": {
   "display_name": "Python 3",
   "language": "python",
   "name": "python3"
  },
  "language_info": {
   "codemirror_mode": {
    "name": "ipython",
    "version": 3
   },
   "file_extension": ".py",
   "mimetype": "text/x-python",
   "name": "python",
   "nbconvert_exporter": "python",
   "pygments_lexer": "ipython3",
   "version": "3.13.7"
  }
 },
 "nbformat": 4,
 "nbformat_minor": 5
}
